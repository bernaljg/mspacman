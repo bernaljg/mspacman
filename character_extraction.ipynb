{
 "metadata": {
  "name": "",
  "signature": "sha256:5ebc62f40a5060ef873478471051bd0fe6455ff2374e03c31c8ce5bc69291bb3"
 },
 "nbformat": 3,
 "nbformat_minor": 0,
 "worksheets": [
  {
   "cells": [
    {
     "cell_type": "code",
     "collapsed": false,
     "input": [
      "\"\"\"\n",
      "This notebook will be used to test the MsPacman OpenAI Gym environment for feature extraction.\n",
      "\"\"\""
     ],
     "language": "python",
     "metadata": {},
     "outputs": [
      {
       "metadata": {},
       "output_type": "pyout",
       "prompt_number": 2,
       "text": [
        "'\\nThis notebook will be used to test the MsPacman OpenAI Gym environment for feature extraction and model design.\\n'"
       ]
      }
     ],
     "prompt_number": 2
    },
    {
     "cell_type": "code",
     "collapsed": false,
     "input": [
      "\"\"\"The code above doesn't work quite as expected because the ghosts change color when they are overlapping which results in \n",
      "the failure of the convolution algorithm.\"\"\""
     ],
     "language": "python",
     "metadata": {},
     "outputs": [
      {
       "metadata": {},
       "output_type": "pyout",
       "prompt_number": 1,
       "text": [
        "\"The code above doesn't work quite as expected because the ghosts change color when they are overlapping which results in \\nthe failure of the convolution algorithm.\""
       ]
      }
     ],
     "prompt_number": 1
    },
    {
     "cell_type": "code",
     "collapsed": false,
     "input": [
      "\"\"\"Organized Code\"\"\"\n",
      "\n",
      "import tensorflow as tf \n",
      "import gym \n",
      "import numpy as np \n",
      "import matplotlib.pyplot as plt \n",
      "import scipy as sp \n",
      "from sklearn import preprocessing \n",
      "import scipy.ndimage \n",
      "import pickle \n",
      "%matplotlib inline\n",
      " \n",
      "def load_char_pickle(): \n",
      "    return pickle.load(open(\"characters.p\",\"rb\")) \n",
      " \n",
      "def normalize_image(image): \n",
      "    \"\"\"Scales images with RGB Channels\"\"\" \n",
      "    image = image.astype('float32') \n",
      "    image = image - np.mean(image)\n",
      "    image = image/np.std(image)\n",
      "     \n",
      "    return image \n",
      " \n",
      "def find_characters_tf(raw_frame, characters, pacman_track): \n",
      " \n",
      "    #Preprocessing Data \n",
      "    raw_frame = raw_frame[:172]\n",
      "    raw_frame = normalize_image(raw_frame) \n",
      "    \n",
      "    #for i,image in enumerate(characters): \n",
      "    #    characters[i] = normalize_image(image)\n",
      "    \n",
      "    #Formatting Game frame to match TensorFlow Convolution\n",
      "    raw_frame = np.array([raw_frame])\n",
      "\n",
      "    character_filters = np.stack(characters, axis = 3)\n",
      "\n",
      "    #Setting up input tensors\n",
      "    game_tensor = tf.placeholder('float32',[1,172,160,3])\n",
      "    filters = tf.placeholder('float32',[12,8,3,5])\n",
      "    \n",
      "    #Setting up operations\n",
      "    conv = tf.nn.conv2d(game_tensor, filters, [1,1,1,1], 'SAME')\n",
      "    \n",
      "    #Running Session\n",
      "    with tf.Session() as sess:\n",
      "        conv_tensor = sess.run(conv,\n",
      "                 feed_dict={game_tensor: raw_frame, filters: character_filters})\n",
      "    \n",
      "    character_locs = {}\n",
      "    \n",
      "    #Finding maximum values for convolutions to get character locations\n",
      "    character_names = ['pac','yellow','red','blue','purple']\n",
      "    \n",
      "    for i, key in enumerate(character_names): #Finds best filter to use\n",
      "        if key == 'pac':\n",
      "            location =  np.unravel_index(np.argmax(conv_tensor[0,pacman_track[0]-5:pacman_track[0]+5,\n",
      "                                                              pacman_track[1]-5:pacman_track[1]+5,i]),(10,10))\n",
      "            character_locs[key] = (pacman_track[0]-5 + location[0], pacman_track[1]-5 + location[1])      \n",
      "        else:\n",
      "            location = np.unravel_index(np.argmax(conv_tensor[0,:,:,i]),(172,160))\n",
      "            conv_max = np.max(conv_tensor[0,:,:,i])\n",
      "            if conv_max <= 200:\n",
      "                character_locs[key] = (0,0)\n",
      "            else:\n",
      "                character_locs[key] = location\n",
      "\n",
      "\n",
      "    return character_locs\n",
      "\n",
      "env = gym.make('MsPacman-v0')\n",
      "obs = env.reset()\n",
      "\n",
      "characters = load_char_pickle()\n",
      "init = (103,79)\n",
      "\n",
      "for i in range(200):\n",
      "    character_locs = find_characters_tf(obs, characters,init)\n",
      "    print(character_locs)\n",
      "    #plt.imshow(obs)\n",
      "    #plt.show()\n",
      "    action = env.action_space.sample()\n",
      "    obs = env.step(action)[0]\n",
      "    init = character_locs['pac']"
     ],
     "language": "python",
     "metadata": {},
     "outputs": [
      {
       "output_type": "stream",
       "stream": "stderr",
       "text": [
        "INFO:gym.envs.registration:Making new env: MsPacman-v0\n"
       ]
      },
      {
       "output_type": "stream",
       "stream": "stderr",
       "text": [
        "[2016-07-06 19:38:49,300] Making new env: MsPacman-v0\n"
       ]
      },
      {
       "output_type": "stream",
       "stream": "stdout",
       "text": [
        "{'blue': (0, 0), 'purple': (0, 0), 'pac': (103, 79), 'red': (55, 79), 'yellow': (85, 79)}\n",
        "{'blue': (0, 0), 'purple': (0, 0), 'pac': (103, 79), 'red': (55, 79), 'yellow': (85, 79)}"
       ]
      },
      {
       "output_type": "stream",
       "stream": "stdout",
       "text": [
        "\n",
        "{'blue': (0, 0), 'purple': (85, 79), 'pac': (103, 79), 'red': (55, 79), 'yellow': (0, 0)}"
       ]
      },
      {
       "output_type": "stream",
       "stream": "stdout",
       "text": [
        "\n",
        "{'blue': (0, 0), 'purple': (85, 79), 'pac': (103, 79), 'red': (55, 79), 'yellow': (0, 0)}"
       ]
      },
      {
       "output_type": "stream",
       "stream": "stdout",
       "text": [
        "\n",
        "{'blue': (0, 0), 'purple': (85, 79), 'pac': (103, 79), 'red': (55, 79), 'yellow': (0, 0)}"
       ]
      },
      {
       "output_type": "stream",
       "stream": "stdout",
       "text": [
        "\n",
        "{'blue': (0, 0), 'purple': (0, 0), 'pac': (103, 79), 'red': (55, 79), 'yellow': (85, 79)}"
       ]
      },
      {
       "output_type": "stream",
       "stream": "stdout",
       "text": [
        "\n",
        "{'blue': (0, 0), 'purple': (0, 0), 'pac': (103, 79), 'red': (55, 79), 'yellow': (85, 79)}"
       ]
      },
      {
       "output_type": "stream",
       "stream": "stdout",
       "text": [
        "\n",
        "{'blue': (85, 79), 'purple': (0, 0), 'pac': (103, 79), 'red': (55, 79), 'yellow': (0, 0)}"
       ]
      },
      {
       "output_type": "stream",
       "stream": "stdout",
       "text": [
        "\n",
        "{'blue': (0, 0), 'purple': (0, 0), 'pac': (103, 79), 'red': (55, 79), 'yellow': (85, 79)}"
       ]
      },
      {
       "output_type": "stream",
       "stream": "stdout",
       "text": [
        "\n",
        "{'blue': (85, 79), 'purple': (0, 0), 'pac': (103, 79), 'red': (55, 79), 'yellow': (0, 0)}"
       ]
      },
      {
       "output_type": "stream",
       "stream": "stdout",
       "text": [
        "\n",
        "{'blue': (0, 0), 'purple': (0, 0), 'pac': (103, 79), 'red': (55, 79), 'yellow': (85, 79)}"
       ]
      },
      {
       "output_type": "stream",
       "stream": "stdout",
       "text": [
        "\n",
        "{'blue': (0, 0), 'purple': (85, 79), 'pac': (103, 79), 'red': (55, 79), 'yellow': (0, 0)}"
       ]
      },
      {
       "output_type": "stream",
       "stream": "stdout",
       "text": [
        "\n",
        "{'blue': (0, 0), 'purple': (85, 79), 'pac': (103, 79), 'red': (55, 79), 'yellow': (0, 0)}"
       ]
      },
      {
       "output_type": "stream",
       "stream": "stdout",
       "text": [
        "\n",
        "{'blue': (0, 0), 'purple': (0, 0), 'pac': (103, 79), 'red': (55, 79), 'yellow': (85, 79)}"
       ]
      },
      {
       "output_type": "stream",
       "stream": "stdout",
       "text": [
        "\n",
        "{'blue': (0, 0), 'purple': (85, 79), 'pac': (103, 79), 'red': (55, 79), 'yellow': (0, 0)}"
       ]
      },
      {
       "output_type": "stream",
       "stream": "stdout",
       "text": [
        "\n",
        "{'blue': (85, 79), 'purple': (0, 0), 'pac': (103, 79), 'red': (55, 79), 'yellow': (0, 0)}"
       ]
      },
      {
       "output_type": "stream",
       "stream": "stdout",
       "text": [
        "\n",
        "{'blue': (0, 0), 'purple': (85, 79), 'pac': (103, 79), 'red': (55, 79), 'yellow': (0, 0)}"
       ]
      },
      {
       "output_type": "stream",
       "stream": "stdout",
       "text": [
        "\n",
        "{'blue': (0, 0), 'purple': (0, 0), 'pac': (103, 79), 'red': (55, 79), 'yellow': (85, 79)}"
       ]
      },
      {
       "output_type": "stream",
       "stream": "stdout",
       "text": [
        "\n",
        "{'blue': (85, 79), 'purple': (0, 0), 'pac': (103, 79), 'red': (55, 79), 'yellow': (0, 0)}"
       ]
      },
      {
       "output_type": "stream",
       "stream": "stdout",
       "text": [
        "\n",
        "{'blue': (85, 79), 'purple': (0, 0), 'pac': (103, 79), 'red': (55, 79), 'yellow': (0, 0)}"
       ]
      },
      {
       "output_type": "stream",
       "stream": "stdout",
       "text": [
        "\n",
        "{'blue': (0, 0), 'purple': (85, 79), 'pac': (103, 79), 'red': (55, 79), 'yellow': (0, 0)}"
       ]
      },
      {
       "output_type": "stream",
       "stream": "stdout",
       "text": [
        "\n",
        "{'blue': (85, 79), 'purple': (0, 0), 'pac': (103, 79), 'red': (55, 79), 'yellow': (0, 0)}"
       ]
      },
      {
       "output_type": "stream",
       "stream": "stdout",
       "text": [
        "\n",
        "{'blue': (85, 79), 'purple': (0, 0), 'pac': (103, 79), 'red': (55, 79), 'yellow': (0, 0)}"
       ]
      },
      {
       "output_type": "stream",
       "stream": "stdout",
       "text": [
        "\n",
        "{'blue': (0, 0), 'purple': (85, 79), 'pac': (103, 79), 'red': (55, 79), 'yellow': (0, 0)}"
       ]
      },
      {
       "output_type": "stream",
       "stream": "stdout",
       "text": [
        "\n",
        "{'blue': (85, 79), 'purple': (0, 0), 'pac': (103, 79), 'red': (55, 79), 'yellow': (0, 0)}"
       ]
      },
      {
       "output_type": "stream",
       "stream": "stdout",
       "text": [
        "\n",
        "{'blue': (85, 79), 'purple': (0, 0), 'pac': (103, 79), 'red': (55, 79), 'yellow': (0, 0)}"
       ]
      },
      {
       "output_type": "stream",
       "stream": "stdout",
       "text": [
        "\n",
        "{'blue': (0, 0), 'purple': (85, 79), 'pac': (103, 79), 'red': (55, 79), 'yellow': (0, 0)}"
       ]
      },
      {
       "output_type": "stream",
       "stream": "stdout",
       "text": [
        "\n",
        "{'blue': (0, 0), 'purple': (0, 0), 'pac': (103, 79), 'red': (55, 79), 'yellow': (85, 79)}"
       ]
      },
      {
       "output_type": "stream",
       "stream": "stdout",
       "text": [
        "\n",
        "{'blue': (0, 0), 'purple': (0, 0), 'pac': (103, 79), 'red': (55, 79), 'yellow': (85, 79)}"
       ]
      },
      {
       "output_type": "stream",
       "stream": "stdout",
       "text": [
        "\n",
        "{'blue': (85, 79), 'purple': (0, 0), 'pac': (103, 79), 'red': (55, 79), 'yellow': (0, 0)}"
       ]
      },
      {
       "output_type": "stream",
       "stream": "stdout",
       "text": [
        "\n",
        "{'blue': (85, 79), 'purple': (0, 0), 'pac': (103, 79), 'red': (55, 79), 'yellow': (0, 0)}"
       ]
      },
      {
       "output_type": "stream",
       "stream": "stdout",
       "text": [
        "\n",
        "{'blue': (0, 0), 'purple': (85, 79), 'pac': (103, 79), 'red': (55, 79), 'yellow': (0, 0)}"
       ]
      },
      {
       "output_type": "stream",
       "stream": "stdout",
       "text": [
        "\n",
        "{'blue': (0, 0), 'purple': (0, 0), 'pac': (103, 79), 'red': (55, 79), 'yellow': (85, 79)}"
       ]
      },
      {
       "output_type": "stream",
       "stream": "stdout",
       "text": [
        "\n",
        "{'blue': (0, 0), 'purple': (85, 79), 'pac': (103, 79), 'red': (55, 79), 'yellow': (0, 0)}"
       ]
      },
      {
       "output_type": "stream",
       "stream": "stdout",
       "text": [
        "\n",
        "{'blue': (85, 79), 'purple': (0, 0), 'pac': (103, 79), 'red': (55, 79), 'yellow': (0, 0)}"
       ]
      },
      {
       "output_type": "stream",
       "stream": "stdout",
       "text": [
        "\n",
        "{'blue': (0, 0), 'purple': (0, 0), 'pac': (103, 79), 'red': (55, 79), 'yellow': (85, 79)}"
       ]
      },
      {
       "output_type": "stream",
       "stream": "stdout",
       "text": [
        "\n",
        "{'blue': (0, 0), 'purple': (0, 0), 'pac': (103, 79), 'red': (55, 79), 'yellow': (85, 79)}"
       ]
      },
      {
       "output_type": "stream",
       "stream": "stdout",
       "text": [
        "\n",
        "{'blue': (85, 79), 'purple': (0, 0), 'pac': (103, 79), 'red': (55, 79), 'yellow': (0, 0)}"
       ]
      },
      {
       "output_type": "stream",
       "stream": "stdout",
       "text": [
        "\n",
        "{'blue': (85, 79), 'purple': (0, 0), 'pac': (103, 79), 'red': (55, 79), 'yellow': (0, 0)}"
       ]
      },
      {
       "output_type": "stream",
       "stream": "stdout",
       "text": [
        "\n",
        "{'blue': (85, 79), 'purple': (0, 0), 'pac': (103, 79), 'red': (55, 79), 'yellow': (0, 0)}"
       ]
      },
      {
       "output_type": "stream",
       "stream": "stdout",
       "text": [
        "\n",
        "{'blue': (0, 0), 'purple': (85, 79), 'pac': (103, 79), 'red': (55, 79), 'yellow': (0, 0)}"
       ]
      },
      {
       "output_type": "stream",
       "stream": "stdout",
       "text": [
        "\n",
        "{'blue': (85, 79), 'purple': (0, 0), 'pac': (103, 79), 'red': (55, 79), 'yellow': (0, 0)}"
       ]
      },
      {
       "output_type": "stream",
       "stream": "stdout",
       "text": [
        "\n",
        "{'blue': (85, 79), 'purple': (0, 0), 'pac': (103, 79), 'red': (55, 79), 'yellow': (0, 0)}"
       ]
      },
      {
       "output_type": "stream",
       "stream": "stdout",
       "text": [
        "\n",
        "{'blue': (85, 79), 'purple': (0, 0), 'pac': (103, 79), 'red': (55, 79), 'yellow': (0, 0)}"
       ]
      },
      {
       "output_type": "stream",
       "stream": "stdout",
       "text": [
        "\n",
        "{'blue': (0, 0), 'purple': (85, 79), 'pac': (103, 79), 'red': (55, 79), 'yellow': (0, 0)}"
       ]
      },
      {
       "output_type": "stream",
       "stream": "stdout",
       "text": [
        "\n",
        "{'blue': (0, 0), 'purple': (0, 0), 'pac': (103, 79), 'red': (55, 79), 'yellow': (85, 79)}"
       ]
      },
      {
       "output_type": "stream",
       "stream": "stdout",
       "text": [
        "\n",
        "{'blue': (0, 0), 'purple': (85, 79), 'pac': (103, 79), 'red': (55, 79), 'yellow': (0, 0)}"
       ]
      },
      {
       "output_type": "stream",
       "stream": "stdout",
       "text": [
        "\n",
        "{'blue': (0, 0), 'purple': (0, 0), 'pac': (103, 79), 'red': (55, 79), 'yellow': (85, 79)}"
       ]
      },
      {
       "output_type": "stream",
       "stream": "stdout",
       "text": [
        "\n",
        "{'blue': (0, 0), 'purple': (0, 0), 'pac': (103, 79), 'red': (55, 79), 'yellow': (85, 79)}"
       ]
      },
      {
       "output_type": "stream",
       "stream": "stdout",
       "text": [
        "\n",
        "{'blue': (85, 79), 'purple': (0, 0), 'pac': (103, 79), 'red': (55, 79), 'yellow': (0, 0)}"
       ]
      },
      {
       "output_type": "stream",
       "stream": "stdout",
       "text": [
        "\n",
        "{'blue': (0, 0), 'purple': (0, 0), 'pac': (103, 79), 'red': (55, 79), 'yellow': (85, 79)}"
       ]
      },
      {
       "output_type": "stream",
       "stream": "stdout",
       "text": [
        "\n",
        "{'blue': (0, 0), 'purple': (85, 79), 'pac': (103, 79), 'red': (55, 79), 'yellow': (0, 0)}"
       ]
      },
      {
       "output_type": "stream",
       "stream": "stdout",
       "text": [
        "\n",
        "{'blue': (0, 0), 'purple': (85, 79), 'pac': (103, 79), 'red': (55, 79), 'yellow': (0, 0)}"
       ]
      },
      {
       "output_type": "stream",
       "stream": "stdout",
       "text": [
        "\n",
        "{'blue': (0, 0), 'purple': (0, 0), 'pac': (103, 79), 'red': (55, 79), 'yellow': (85, 79)}"
       ]
      },
      {
       "output_type": "stream",
       "stream": "stdout",
       "text": [
        "\n",
        "{'blue': (85, 79), 'purple': (0, 0), 'pac': (103, 79), 'red': (55, 79), 'yellow': (0, 0)}"
       ]
      },
      {
       "output_type": "stream",
       "stream": "stdout",
       "text": [
        "\n",
        "{'blue': (0, 0), 'purple': (0, 0), 'pac': (103, 79), 'red': (55, 79), 'yellow': (85, 79)}"
       ]
      },
      {
       "output_type": "stream",
       "stream": "stdout",
       "text": [
        "\n",
        "{'blue': (0, 0), 'purple': (0, 0), 'pac': (103, 79), 'red': (55, 79), 'yellow': (85, 79)}"
       ]
      },
      {
       "output_type": "stream",
       "stream": "stdout",
       "text": [
        "\n",
        "{'blue': (0, 0), 'purple': (0, 0), 'pac': (103, 79), 'red': (55, 79), 'yellow': (85, 79)}"
       ]
      },
      {
       "output_type": "stream",
       "stream": "stdout",
       "text": [
        "\n",
        "{'blue': (0, 0), 'purple': (85, 79), 'pac': (103, 79), 'red': (55, 79), 'yellow': (0, 0)}"
       ]
      },
      {
       "output_type": "stream",
       "stream": "stdout",
       "text": [
        "\n",
        "{'blue': (85, 79), 'purple': (0, 0), 'pac': (103, 79), 'red': (55, 79), 'yellow': (0, 0)}"
       ]
      },
      {
       "output_type": "stream",
       "stream": "stdout",
       "text": [
        "\n",
        "{'blue': (0, 0), 'purple': (85, 79), 'pac': (103, 79), 'red': (55, 79), 'yellow': (0, 0)}"
       ]
      },
      {
       "output_type": "stream",
       "stream": "stdout",
       "text": [
        "\n",
        "{'blue': (0, 0), 'purple': (0, 0), 'pac': (103, 79), 'red': (55, 79), 'yellow': (85, 79)}"
       ]
      },
      {
       "output_type": "stream",
       "stream": "stdout",
       "text": [
        "\n",
        "{'blue': (85, 79), 'purple': (0, 0), 'pac': (103, 79), 'red': (55, 79), 'yellow': (0, 0)}"
       ]
      },
      {
       "output_type": "stream",
       "stream": "stdout",
       "text": [
        "\n",
        "{'blue': (0, 0), 'purple': (85, 79), 'pac': (103, 79), 'red': (55, 79), 'yellow': (0, 0)}"
       ]
      },
      {
       "output_type": "stream",
       "stream": "stdout",
       "text": [
        "\n",
        "{'blue': (85, 79), 'purple': (0, 0), 'pac': (103, 79), 'red': (55, 79), 'yellow': (0, 0)}"
       ]
      },
      {
       "output_type": "stream",
       "stream": "stdout",
       "text": [
        "\n",
        "{'blue': (0, 0), 'purple': (85, 79), 'pac': (103, 79), 'red': (55, 79), 'yellow': (0, 0)}"
       ]
      },
      {
       "output_type": "stream",
       "stream": "stdout",
       "text": [
        "\n",
        "{'blue': (0, 0), 'purple': (85, 79), 'pac': (103, 79), 'red': (55, 79), 'yellow': (0, 0)}"
       ]
      },
      {
       "output_type": "stream",
       "stream": "stdout",
       "text": [
        "\n",
        "{'blue': (0, 0), 'purple': (0, 0), 'pac': (103, 79), 'red': (55, 79), 'yellow': (85, 79)}"
       ]
      },
      {
       "output_type": "stream",
       "stream": "stdout",
       "text": [
        "\n",
        "{'blue': (85, 79), 'purple': (0, 0), 'pac': (103, 79), 'red': (55, 79), 'yellow': (0, 0)}"
       ]
      },
      {
       "output_type": "stream",
       "stream": "stdout",
       "text": [
        "\n",
        "{'blue': (0, 0), 'purple': (85, 79), 'pac': (103, 79), 'red': (55, 79), 'yellow': (0, 0)}"
       ]
      },
      {
       "output_type": "stream",
       "stream": "stdout",
       "text": [
        "\n",
        "{'blue': (85, 79), 'purple': (0, 0), 'pac': (103, 79), 'red': (55, 79), 'yellow': (0, 0)}"
       ]
      },
      {
       "output_type": "stream",
       "stream": "stdout",
       "text": [
        "\n",
        "{'blue': (0, 0), 'purple': (0, 0), 'pac': (103, 79), 'red': (55, 79), 'yellow': (85, 79)}"
       ]
      },
      {
       "output_type": "stream",
       "stream": "stdout",
       "text": [
        "\n",
        "{'blue': (0, 0), 'purple': (85, 79), 'pac': (103, 79), 'red': (55, 79), 'yellow': (0, 0)}"
       ]
      },
      {
       "output_type": "stream",
       "stream": "stdout",
       "text": [
        "\n",
        "{'blue': (85, 79), 'purple': (0, 0), 'pac': (103, 79), 'red': (55, 79), 'yellow': (0, 0)}"
       ]
      },
      {
       "output_type": "stream",
       "stream": "stdout",
       "text": [
        "\n",
        "{'blue': (0, 0), 'purple': (85, 79), 'pac': (103, 79), 'red': (55, 79), 'yellow': (0, 0)}"
       ]
      },
      {
       "output_type": "stream",
       "stream": "stdout",
       "text": [
        "\n",
        "{'blue': (85, 79), 'purple': (0, 0), 'pac': (103, 79), 'red': (55, 79), 'yellow': (0, 0)}"
       ]
      },
      {
       "output_type": "stream",
       "stream": "stdout",
       "text": [
        "\n",
        "{'blue': (0, 0), 'purple': (85, 79), 'pac': (103, 79), 'red': (55, 79), 'yellow': (0, 0)}"
       ]
      },
      {
       "output_type": "stream",
       "stream": "stdout",
       "text": [
        "\n",
        "{'blue': (0, 0), 'purple': (85, 79), 'pac': (103, 79), 'red': (55, 79), 'yellow': (0, 0)}"
       ]
      },
      {
       "output_type": "stream",
       "stream": "stdout",
       "text": [
        "\n",
        "{'blue': (0, 0), 'purple': (0, 0), 'pac': (103, 79), 'red': (55, 79), 'yellow': (85, 79)}"
       ]
      },
      {
       "output_type": "stream",
       "stream": "stdout",
       "text": [
        "\n",
        "{'blue': (85, 79), 'purple': (0, 0), 'pac': (103, 79), 'red': (55, 79), 'yellow': (0, 0)}"
       ]
      },
      {
       "output_type": "stream",
       "stream": "stdout",
       "text": [
        "\n",
        "{'blue': (0, 0), 'purple': (0, 0), 'pac': (103, 79), 'red': (55, 79), 'yellow': (85, 79)}"
       ]
      },
      {
       "output_type": "stream",
       "stream": "stdout",
       "text": [
        "\n",
        "{'blue': (0, 0), 'purple': (0, 0), 'pac': (103, 79), 'red': (55, 79), 'yellow': (85, 79)}"
       ]
      },
      {
       "output_type": "stream",
       "stream": "stdout",
       "text": [
        "\n",
        "{'blue': (0, 0), 'purple': (85, 79), 'pac': (103, 79), 'red': (55, 79), 'yellow': (0, 0)}"
       ]
      },
      {
       "output_type": "stream",
       "stream": "stdout",
       "text": [
        "\n",
        "{'blue': (0, 0), 'purple': (85, 79), 'pac': (103, 79), 'red': (55, 79), 'yellow': (0, 0)}"
       ]
      },
      {
       "output_type": "stream",
       "stream": "stdout",
       "text": [
        "\n",
        "{'blue': (0, 0), 'purple': (0, 0), 'pac': (103, 79), 'red': (55, 79), 'yellow': (85, 79)}"
       ]
      },
      {
       "output_type": "stream",
       "stream": "stdout",
       "text": [
        "\n",
        "{'blue': (0, 0), 'purple': (0, 0), 'pac': (103, 81), 'red': (55, 79), 'yellow': (85, 79)}"
       ]
      },
      {
       "output_type": "stream",
       "stream": "stdout",
       "text": [
        "\n",
        "{'blue': (85, 82), 'purple': (0, 0), 'pac': (103, 84), 'red': (55, 76), 'yellow': (0, 0)}"
       ]
      },
      {
       "output_type": "stream",
       "stream": "stdout",
       "text": [
        "\n",
        "{'blue': (0, 0), 'purple': (0, 0), 'pac': (103, 85), 'red': (55, 74), 'yellow': (85, 83)}"
       ]
      },
      {
       "output_type": "stream",
       "stream": "stdout",
       "text": [
        "\n",
        "{'blue': (0, 0), 'purple': (85, 85), 'pac': (103, 84), 'red': (55, 73), 'yellow': (0, 0)}"
       ]
      },
      {
       "output_type": "stream",
       "stream": "stdout",
       "text": [
        "\n",
        "{'blue': (0, 0), 'purple': (0, 0), 'pac': (103, 82), 'red': (55, 70), 'yellow': (82, 85)}"
       ]
      },
      {
       "output_type": "stream",
       "stream": "stdout",
       "text": [
        "\n",
        "{'blue': (81, 85), 'purple': (0, 0), 'pac': (103, 85), 'red': (55, 68), 'yellow': (0, 0)}"
       ]
      },
      {
       "output_type": "stream",
       "stream": "stdout",
       "text": [
        "\n",
        "{'blue': (0, 0), 'purple': (76, 85), 'pac': (103, 86), 'red': (0, 0), 'yellow': (0, 0)}"
       ]
      },
      {
       "output_type": "stream",
       "stream": "stdout",
       "text": [
        "\n",
        "{'blue': (0, 0), 'purple': (0, 0), 'pac': (103, 88), 'red': (0, 0), 'yellow': (75, 85)}"
       ]
      },
      {
       "output_type": "stream",
       "stream": "stdout",
       "text": [
        "\n",
        "{'blue': (0, 0), 'purple': (0, 0), 'pac': (103, 87), 'red': (0, 0), 'yellow': (0, 0)}"
       ]
      },
      {
       "output_type": "stream",
       "stream": "stdout",
       "text": [
        "\n",
        "{'blue': (0, 0), 'purple': (0, 0), 'pac': (103, 86), 'red': (55, 60), 'yellow': (0, 0)}"
       ]
      },
      {
       "output_type": "stream",
       "stream": "stdout",
       "text": [
        "\n",
        "{'blue': (0, 0), 'purple': (0, 0), 'pac': (103, 89), 'red': (55, 58), 'yellow': (0, 0)}"
       ]
      },
      {
       "output_type": "stream",
       "stream": "stdout",
       "text": [
        "\n",
        "{'blue': (0, 0), 'purple': (0, 0), 'pac': (103, 91), 'red': (0, 0), 'yellow': (0, 0)}"
       ]
      },
      {
       "output_type": "stream",
       "stream": "stdout",
       "text": [
        "\n",
        "{'blue': (0, 0), 'purple': (0, 0), 'pac': (103, 92), 'red': (58, 57), 'yellow': (0, 0)}"
       ]
      },
      {
       "output_type": "stream",
       "stream": "stdout",
       "text": [
        "\n",
        "{'blue': (0, 0), 'purple': (0, 0), 'pac': (103, 94), 'red': (0, 0), 'yellow': (0, 0)}"
       ]
      },
      {
       "output_type": "stream",
       "stream": "stdout",
       "text": [
        "\n",
        "{'blue': (0, 0), 'purple': (0, 0), 'pac': (103, 94), 'red': (0, 0), 'yellow': (0, 0)}"
       ]
      },
      {
       "output_type": "stream",
       "stream": "stdout",
       "text": [
        "\n",
        "{'blue': (0, 0), 'purple': (0, 0), 'pac': (103, 96), 'red': (0, 0), 'yellow': (0, 0)}"
       ]
      },
      {
       "output_type": "stream",
       "stream": "stdout",
       "text": [
        "\n",
        "{'blue': (0, 0), 'purple': (0, 0), 'pac': (103, 99), 'red': (0, 0), 'yellow': (0, 0)}"
       ]
      },
      {
       "output_type": "stream",
       "stream": "stdout",
       "text": [
        "\n",
        "{'blue': (0, 0), 'purple': (0, 0), 'pac': (103, 101), 'red': (75, 57), 'yellow': (0, 0)}"
       ]
      },
      {
       "output_type": "stream",
       "stream": "stdout",
       "text": [
        "\n",
        "{'blue': (0, 0), 'purple': (77, 73), 'pac': (103, 102), 'red': (0, 0), 'yellow': (0, 0)}"
       ]
      },
      {
       "output_type": "stream",
       "stream": "stdout",
       "text": [
        "\n",
        "{'blue': (0, 0), 'purple': (0, 0), 'pac': (103, 98), 'red': (79, 57), 'yellow': (0, 0)}"
       ]
      },
      {
       "output_type": "stream",
       "stream": "stdout",
       "text": [
        "\n",
        "{'blue': (0, 0), 'purple': (80, 73), 'pac': (107, 102), 'red': (0, 0), 'yellow': (55, 79)}"
       ]
      },
      {
       "output_type": "stream",
       "stream": "stdout",
       "text": [
        "\n",
        "{'blue': (0, 0), 'purple': (0, 0), 'pac': (108, 101), 'red': (84, 57), 'yellow': (55, 77)}"
       ]
      },
      {
       "output_type": "stream",
       "stream": "stdout",
       "text": [
        "\n",
        "{'blue': (85, 76), 'purple': (0, 0), 'pac': (108, 101), 'red': (0, 0), 'yellow': (0, 0)}"
       ]
      },
      {
       "output_type": "stream",
       "stream": "stdout",
       "text": [
        "\n",
        "{'blue': (0, 0), 'purple': (0, 0), 'pac': (108, 101), 'red': (90, 57), 'yellow': (0, 0)}"
       ]
      },
      {
       "output_type": "stream",
       "stream": "stdout",
       "text": [
        "\n",
        "{'blue': (85, 81), 'purple': (0, 0), 'pac': (108, 101), 'red': (0, 0), 'yellow': (0, 0)}"
       ]
      },
      {
       "output_type": "stream",
       "stream": "stdout",
       "text": [
        "\n",
        "{'blue': (0, 0), 'purple': (0, 0), 'pac': (108, 101), 'red': (95, 57), 'yellow': (0, 0)}"
       ]
      },
      {
       "output_type": "stream",
       "stream": "stdout",
       "text": [
        "\n",
        "{'blue': (0, 0), 'purple': (0, 0), 'pac': (108, 101), 'red': (0, 0), 'yellow': (55, 70)}"
       ]
      },
      {
       "output_type": "stream",
       "stream": "stdout",
       "text": [
        "\n",
        "{'blue': (82, 85), 'purple': (0, 0), 'pac': (108, 101), 'red': (101, 57), 'yellow': (0, 0)}"
       ]
      },
      {
       "output_type": "stream",
       "stream": "stdout",
       "text": [
        "\n",
        "{'blue': (0, 0), 'purple': (85, 82), 'pac': (108, 101), 'red': (103, 57), 'yellow': (0, 0)}"
       ]
      },
      {
       "output_type": "stream",
       "stream": "stdout",
       "text": [
        "\n",
        "{'blue': (76, 85), 'purple': (0, 0), 'pac': (108, 101), 'red': (103, 54), 'yellow': (0, 0)}"
       ]
      },
      {
       "output_type": "stream",
       "stream": "stdout",
       "text": [
        "\n",
        "{'blue': (0, 0), 'purple': (85, 85), 'pac': (108, 101), 'red': (103, 53), 'yellow': (0, 0)}"
       ]
      },
      {
       "output_type": "stream",
       "stream": "stdout",
       "text": [
        "\n",
        "{'blue': (0, 0), 'purple': (82, 85), 'pac': (108, 101), 'red': (103, 50), 'yellow': (0, 0)}"
       ]
      },
      {
       "output_type": "stream",
       "stream": "stdout",
       "text": [
        "\n",
        "{'blue': (0, 0), 'purple': (81, 85), 'pac': (108, 101), 'red': (103, 49), 'yellow': (55, 61)}"
       ]
      },
      {
       "output_type": "stream",
       "stream": "stdout",
       "text": [
        "\n",
        "{'blue': (0, 0), 'purple': (79, 85), 'pac': (108, 101), 'red': (103, 46), 'yellow': (0, 0)}"
       ]
      },
      {
       "output_type": "stream",
       "stream": "stdout",
       "text": [
        "\n",
        "{'blue': (0, 0), 'purple': (77, 85), 'pac': (108, 101), 'red': (103, 43), 'yellow': (0, 0)}"
       ]
      },
      {
       "output_type": "stream",
       "stream": "stdout",
       "text": [
        "\n",
        "{'blue': (0, 0), 'purple': (0, 0), 'pac': (108, 101), 'red': (103, 41), 'yellow': (0, 0)}"
       ]
      },
      {
       "output_type": "stream",
       "stream": "stdout",
       "text": [
        "\n",
        "{'blue': (0, 0), 'purple': (0, 0), 'pac': (108, 101), 'red': (103, 38), 'yellow': (0, 0)}"
       ]
      },
      {
       "output_type": "stream",
       "stream": "stdout",
       "text": [
        "\n",
        "{'blue': (0, 0), 'purple': (0, 0), 'pac': (108, 101), 'red': (103, 36), 'yellow': (0, 0)}"
       ]
      },
      {
       "output_type": "stream",
       "stream": "stdout",
       "text": [
        "\n",
        "{'blue': (74, 73), 'purple': (0, 0), 'pac': (108, 101), 'red': (103, 36), 'yellow': (0, 0)}"
       ]
      },
      {
       "output_type": "stream",
       "stream": "stdout",
       "text": [
        "\n",
        "{'blue': (0, 0), 'purple': (0, 0), 'pac': (108, 101), 'red': (103, 34), 'yellow': (63, 57)}"
       ]
      },
      {
       "output_type": "stream",
       "stream": "stdout",
       "text": [
        "\n",
        "{'blue': (78, 73), 'purple': (0, 0), 'pac': (108, 101), 'red': (0, 0), 'yellow': (0, 0)}"
       ]
      },
      {
       "output_type": "stream",
       "stream": "stdout",
       "text": [
        "\n",
        "{'blue': (0, 0), 'purple': (0, 0), 'pac': (108, 101), 'red': (106, 33), 'yellow': (0, 0)}"
       ]
      },
      {
       "output_type": "stream",
       "stream": "stdout",
       "text": [
        "\n",
        "{'blue': (0, 0), 'purple': (0, 0), 'pac': (108, 101), 'red': (108, 33), 'yellow': (0, 0)}"
       ]
      },
      {
       "output_type": "stream",
       "stream": "stdout",
       "text": [
        "\n",
        "{'blue': (0, 0), 'purple': (0, 0), 'pac': (108, 101), 'red': (112, 33), 'yellow': (0, 0)}"
       ]
      },
      {
       "output_type": "stream",
       "stream": "stdout",
       "text": [
        "\n",
        "{'blue': (0, 0), 'purple': (0, 0), 'pac': (108, 101), 'red': (0, 0), 'yellow': (75, 57)}"
       ]
      },
      {
       "output_type": "stream",
       "stream": "stdout",
       "text": [
        "\n",
        "{'blue': (85, 76), 'purple': (0, 0), 'pac': (108, 101), 'red': (119, 33), 'yellow': (0, 0)}"
       ]
      },
      {
       "output_type": "stream",
       "stream": "stdout",
       "text": [
        "\n",
        "{'blue': (0, 0), 'purple': (76, 73), 'pac': (108, 101), 'red': (0, 0), 'yellow': (0, 0)}"
       ]
      },
      {
       "output_type": "stream",
       "stream": "stdout",
       "text": [
        "\n",
        "{'blue': (0, 0), 'purple': (78, 73), 'pac': (108, 101), 'red': (123, 33), 'yellow': (0, 0)}"
       ]
      }
     ]
    },
    {
     "cell_type": "code",
     "collapsed": false,
     "input": [
      "import numpy as np\n",
      "np.append(np.array([]),(22,3))"
     ],
     "language": "python",
     "metadata": {},
     "outputs": [
      {
       "metadata": {},
       "output_type": "pyout",
       "prompt_number": 4,
       "text": [
        "array([ 22.,   3.])"
       ]
      }
     ],
     "prompt_number": 4
    },
    {
     "cell_type": "code",
     "collapsed": false,
     "input": [],
     "language": "python",
     "metadata": {},
     "outputs": []
    }
   ],
   "metadata": {}
  }
 ]
}